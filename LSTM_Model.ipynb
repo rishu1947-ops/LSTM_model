{
 "cells": [
  {
   "cell_type": "code",
   "execution_count": 1,
   "id": "d58a12ab",
   "metadata": {},
   "outputs": [],
   "source": [
    "# Import necessary libraries for deep learning, data processing, and tokenization\n",
    "\n",
    "import torch\n",
    "import torch.nn as nn\n",
    "import torch.optim as optim\n",
    "import numpy as np\n",
    "from collections import Counter\n",
    "from torch.utils.data import Dataset, DataLoader\n",
    "from nltk.tokenize import word_tokenize\n",
    "import nltk\n",
    "import time"
   ]
  },
  {
   "cell_type": "code",
   "execution_count": 2,
   "id": "bdd65ede",
   "metadata": {},
   "outputs": [],
   "source": [
    "# Load a subset of the BookCorpus dataset using HuggingFace Datasets\n",
    "\n",
    "from datasets import load_dataset\n",
    "\n",
    "bookcorpus_dataset = load_dataset('bookcorpus', split='train', trust_remote_code=True)\n",
    "\n",
    "subset = bookcorpus_dataset.select(range(10000))\n",
    "\n",
    "document = \"\\n\".join(subset['text'])"
   ]
  },
  {
   "cell_type": "code",
   "execution_count": 3,
   "id": "05a8d467",
   "metadata": {},
   "outputs": [
    {
     "name": "stderr",
     "output_type": "stream",
     "text": [
      "[nltk_data] Downloading package punkt to\n",
      "[nltk_data]     C:\\Users\\rishi\\AppData\\Roaming\\nltk_data...\n",
      "[nltk_data]   Package punkt is already up-to-date!\n",
      "[nltk_data] Downloading package punkt_tab to\n",
      "[nltk_data]     C:\\Users\\rishi\\AppData\\Roaming\\nltk_data...\n",
      "[nltk_data]   Package punkt_tab is already up-to-date!\n"
     ]
    },
    {
     "data": {
      "text/plain": [
       "True"
      ]
     },
     "execution_count": 3,
     "metadata": {},
     "output_type": "execute_result"
    }
   ],
   "source": [
    "# Download NLTK tokenizers required for word tokenization\n",
    "\n",
    "nltk.download('punkt')\n",
    "nltk.download('punkt_tab')"
   ]
  },
  {
   "cell_type": "code",
   "execution_count": 4,
   "id": "203fe35a",
   "metadata": {},
   "outputs": [],
   "source": [
    "# Tokenize the entire document into words (lowercased)\n",
    "\n",
    "tokens = word_tokenize(document.lower())"
   ]
  },
  {
   "cell_type": "code",
   "execution_count": 5,
   "id": "d021af03",
   "metadata": {},
   "outputs": [
    {
     "data": {
      "text/plain": [
       "6997"
      ]
     },
     "execution_count": 5,
     "metadata": {},
     "output_type": "execute_result"
    }
   ],
   "source": [
    "# Build a vocabulary dictionary mapping each unique token to a unique integer index\n",
    "\n",
    "vocab = {'<UNK>':0}     # Reserve 0 for unknown tokens\n",
    "\n",
    "for token in Counter(tokens).keys():\n",
    "    if token not in vocab:\n",
    "        vocab[token] = len(vocab)\n",
    "\n",
    "len(vocab)  # Get the size of the vocabulary"
   ]
  },
  {
   "cell_type": "code",
   "execution_count": 6,
   "id": "900f523e",
   "metadata": {},
   "outputs": [],
   "source": [
    "# Split the document into sentences for sequence modeling\n",
    "\n",
    "input_sentences = document.split('\\n')"
   ]
  },
  {
   "cell_type": "code",
   "execution_count": 7,
   "id": "58cbf225",
   "metadata": {},
   "outputs": [],
   "source": [
    "# Function to convert a tokenized sentence into a list of vocabulary indices\n",
    "\n",
    "def text_to_indices(sentence, vocab):\n",
    "\n",
    "    numerical_sentence = []\n",
    "\n",
    "    for token in sentence:\n",
    "        if token in vocab:\n",
    "            numerical_sentence.append(vocab[token])\n",
    "\n",
    "        else:\n",
    "            numerical_sentence.append(vocab['<UNK>'])    \n",
    "\n",
    "    return numerical_sentence        \n"
   ]
  },
  {
   "cell_type": "code",
   "execution_count": 8,
   "id": "7308f783",
   "metadata": {},
   "outputs": [],
   "source": [
    "# Convert all sentences into lists of vocabulary indices\n",
    "\n",
    "input_numerical_sentences = []\n",
    "\n",
    "for sentence in input_sentences:\n",
    "    input_numerical_sentences.append(text_to_indices(word_tokenize(sentence.lower()), vocab))"
   ]
  },
  {
   "cell_type": "code",
   "execution_count": 9,
   "id": "8bc8cf77",
   "metadata": {},
   "outputs": [
    {
     "data": {
      "text/plain": [
       "10000"
      ]
     },
     "execution_count": 9,
     "metadata": {},
     "output_type": "execute_result"
    }
   ],
   "source": [
    "len(input_numerical_sentences)"
   ]
  },
  {
   "cell_type": "code",
   "execution_count": 10,
   "id": "7742c42e",
   "metadata": {},
   "outputs": [],
   "source": [
    "# Prepare training sequences for next-word prediction\n",
    "\n",
    "training_seq = []\n",
    "for sentence in input_numerical_sentences:\n",
    "\n",
    "    for i in range(1,len(sentence)):\n",
    "        training_seq.append(sentence[:i+1])\n"
   ]
  },
  {
   "cell_type": "code",
   "execution_count": 11,
   "id": "64652dc7",
   "metadata": {},
   "outputs": [
    {
     "data": {
      "text/plain": [
       "123701"
      ]
     },
     "execution_count": 11,
     "metadata": {},
     "output_type": "execute_result"
    }
   ],
   "source": [
    "len(training_seq)"
   ]
  },
  {
   "cell_type": "code",
   "execution_count": 12,
   "id": "03528bde",
   "metadata": {},
   "outputs": [
    {
     "name": "stdout",
     "output_type": "stream",
     "text": [
      "77\n"
     ]
    }
   ],
   "source": [
    "# Find the maximum sequence length for padding\n",
    "\n",
    "length_list = []\n",
    "for seq in training_seq:\n",
    "    length_list.append(len(seq))\n",
    "\n",
    "max_len = max(length_list)\n",
    "print(max_len)  # Print the maximum sequence length"
   ]
  },
  {
   "cell_type": "code",
   "execution_count": 13,
   "id": "52f6163b",
   "metadata": {},
   "outputs": [],
   "source": [
    "# Pad all sequences so they have the same length (left-padding with zeros)\n",
    "\n",
    "padded_training_seq = []\n",
    "for seq in training_seq:\n",
    "    padded_training_seq.append([0]*(max(length_list) - len(seq)) + seq)"
   ]
  },
  {
   "cell_type": "code",
   "execution_count": 14,
   "id": "93090a25",
   "metadata": {},
   "outputs": [
    {
     "data": {
      "text/plain": [
       "77"
      ]
     },
     "execution_count": 14,
     "metadata": {},
     "output_type": "execute_result"
    }
   ],
   "source": [
    "len(padded_training_seq[0])"
   ]
  },
  {
   "cell_type": "code",
   "execution_count": 15,
   "id": "0e607ee3",
   "metadata": {},
   "outputs": [],
   "source": [
    "# Convert the padded sequences to a PyTorch tensor\n",
    "\n",
    "padded_training_seq = torch.tensor(padded_training_seq, dtype = torch.long)"
   ]
  },
  {
   "cell_type": "code",
   "execution_count": 16,
   "id": "536b2482",
   "metadata": {},
   "outputs": [
    {
     "data": {
      "text/plain": [
       "torch.Size([123701, 77])"
      ]
     },
     "execution_count": 16,
     "metadata": {},
     "output_type": "execute_result"
    }
   ],
   "source": [
    "padded_training_seq.shape"
   ]
  },
  {
   "cell_type": "code",
   "execution_count": 17,
   "id": "36ca26f8",
   "metadata": {},
   "outputs": [],
   "source": [
    "# Split the sequences into input (all but last token) and target (last token)\n",
    "\n",
    "x = padded_training_seq[:, :-1]\n",
    "y = padded_training_seq[:, -1]"
   ]
  },
  {
   "cell_type": "code",
   "execution_count": 18,
   "id": "5aac81bf",
   "metadata": {},
   "outputs": [],
   "source": [
    "# Define a custom PyTorch Dataset for our training data\n",
    "\n",
    "class CustomDataset(Dataset):\n",
    "    def __init__(self, x, y):\n",
    "        super().__init__()\n",
    "        self.x = x\n",
    "        self.y = y\n",
    "\n",
    "    def __len__(self):\n",
    "        return self.x.shape[0]\n",
    "    \n",
    "    def __getitem__(self, index):\n",
    "         return self.x[index], self.y[index]"
   ]
  },
  {
   "cell_type": "code",
   "execution_count": 19,
   "id": "d3f26f71",
   "metadata": {},
   "outputs": [],
   "source": [
    "dataset = CustomDataset(x,y)"
   ]
  },
  {
   "cell_type": "code",
   "execution_count": 20,
   "id": "18899794",
   "metadata": {},
   "outputs": [
    {
     "data": {
      "text/plain": [
       "123701"
      ]
     },
     "execution_count": 20,
     "metadata": {},
     "output_type": "execute_result"
    }
   ],
   "source": [
    "len(dataset)"
   ]
  },
  {
   "cell_type": "code",
   "execution_count": 21,
   "id": "8ca9d358",
   "metadata": {},
   "outputs": [],
   "source": [
    "# Create the dataset and dataloader for batching and shuffling\n",
    "\n",
    "dataloader = DataLoader(dataset, batch_size = 32, shuffle = True)"
   ]
  },
  {
   "cell_type": "code",
   "execution_count": 22,
   "id": "5bbbae3c",
   "metadata": {},
   "outputs": [],
   "source": [
    "# Define the LSTM-based language model\n",
    "\n",
    "class LSTMModel(nn.Module):\n",
    "    def __init__(self, vocab_size):\n",
    "        super().__init__()\n",
    "        \n",
    "        self.embedding = nn.Embedding(vocab_size, 100)  # Embedding layer for word vectors\n",
    "        self.lstm = nn.LSTM(100, 150, batch_first = True)   # LSTM layer\n",
    "        self.fc = nn.Linear(150, vocab_size)    # Output layer to predict next word\n",
    "\n",
    "    def forward(self, x):\n",
    "        embedded = self.embedding(x)\n",
    "        intermediate_hidden_states, (final_hidden_state, final_cell_state) = self.lstm(embedded)\n",
    "        output = self.fc(final_hidden_state.squeeze(0))    # Use the last hidden state for prediction\n",
    "\n",
    "        return output"
   ]
  },
  {
   "cell_type": "code",
   "execution_count": 23,
   "id": "fc37875c",
   "metadata": {},
   "outputs": [
    {
     "data": {
      "text/plain": [
       "LSTMModel(\n",
       "  (embedding): Embedding(6997, 100)\n",
       "  (lstm): LSTM(100, 150, batch_first=True)\n",
       "  (fc): Linear(in_features=150, out_features=6997, bias=True)\n",
       ")"
      ]
     },
     "execution_count": 23,
     "metadata": {},
     "output_type": "execute_result"
    }
   ],
   "source": [
    "# Instantiate the model and move it to the appropriate device (GPU if available)\n",
    "\n",
    "model = LSTMModel(len(vocab))\n",
    "device = torch.device(\"cuda\" if torch.cuda.is_available() else \"cpu\")\n",
    "model.to(device)"
   ]
  },
  {
   "cell_type": "code",
   "execution_count": 24,
   "id": "7447faf5",
   "metadata": {},
   "outputs": [],
   "source": [
    "# Set training hyperparameters and loss/optimizer\n",
    "\n",
    "epochs = 50\n",
    "learning_rate = 0.001\n",
    "criterion = nn.CrossEntropyLoss()\n",
    "optimizer = torch.optim.Adam(model.parameters(), lr = learning_rate)\n"
   ]
  },
  {
   "cell_type": "code",
   "execution_count": 25,
   "id": "ef3b8716",
   "metadata": {},
   "outputs": [],
   "source": [
    "# Training loop for the LSTM language model\n",
    "\n",
    "for epoch in range(epochs):\n",
    "    total_loss = 0\n",
    "\n",
    "    for batch_x, batch_y in dataloader:\n",
    "\n",
    "        batch_x, batch_y = batch_x.to(device), batch_y.to(device)\n",
    "\n",
    "        optimizer.zero_grad()\n",
    "\n",
    "        output = model(batch_x)\n",
    "\n",
    "        loss = criterion(output, batch_y)\n",
    "\n",
    "        loss.backward()\n",
    "\n",
    "        optimizer.step()\n",
    "\n",
    "        total_loss += loss.item()\n"
   ]
  },
  {
   "cell_type": "code",
   "execution_count": 26,
   "id": "e9d3d790",
   "metadata": {},
   "outputs": [],
   "source": [
    "# Function to predict the next word given an input text prompt\n",
    "\n",
    "def prediction(model, vocab, text):\n",
    "\n",
    "    tokenized_text = word_tokenize(text.lower())\n",
    "\n",
    "    numerical_text = text_to_indices(tokenized_text, vocab)\n",
    "    \n",
    "    padded_text = torch.tensor([0]*(max_len - len(numerical_text)) + numerical_text, dtype = torch.long).unsqueeze(0).to(device)\n",
    "\n",
    "    output = model(padded_text)\n",
    "\n",
    "    value, index =torch.max(output, dim = 1)\n",
    "\n",
    "    return text + \" \" + list(vocab.keys())[index]\n"
   ]
  },
  {
   "cell_type": "code",
   "execution_count": 27,
   "id": "c5520148",
   "metadata": {},
   "outputs": [
    {
     "data": {
      "text/plain": [
       "'nice to meet you back'"
      ]
     },
     "execution_count": 27,
     "metadata": {},
     "output_type": "execute_result"
    }
   ],
   "source": [
    "# Example: Predict the next word for a given prompt\n",
    "\n",
    "prediction(model, vocab, \"nice to meet you\")"
   ]
  },
  {
   "cell_type": "code",
   "execution_count": 28,
   "id": "8c3000a2",
   "metadata": {},
   "outputs": [
    {
     "name": "stdout",
     "output_type": "stream",
     "text": [
      "nice to meet you back\n",
      "nice to meet you back ,\n",
      "nice to meet you back , just\n",
      "nice to meet you back , just for\n",
      "nice to meet you back , just for a\n",
      "nice to meet you back , just for a few\n",
      "nice to meet you back , just for a few weeks\n",
      "nice to meet you back , just for a few weeks or\n",
      "nice to meet you back , just for a few weeks or at\n",
      "nice to meet you back , just for a few weeks or at the\n",
      "nice to meet you back , just for a few weeks or at the end\n",
      "nice to meet you back , just for a few weeks or at the end of\n",
      "nice to meet you back , just for a few weeks or at the end of the\n",
      "nice to meet you back , just for a few weeks or at the end of the people\n",
      "nice to meet you back , just for a few weeks or at the end of the people who\n",
      "nice to meet you back , just for a few weeks or at the end of the people who 'd\n",
      "nice to meet you back , just for a few weeks or at the end of the people who 'd be\n",
      "nice to meet you back , just for a few weeks or at the end of the people who 'd be a\n",
      "nice to meet you back , just for a few weeks or at the end of the people who 'd be a good\n",
      "nice to meet you back , just for a few weeks or at the end of the people who 'd be a good father\n",
      "nice to meet you back , just for a few weeks or at the end of the people who 'd be a good father to\n",
      "nice to meet you back , just for a few weeks or at the end of the people who 'd be a good father to have\n",
      "nice to meet you back , just for a few weeks or at the end of the people who 'd be a good father to have tests\n",
      "nice to meet you back , just for a few weeks or at the end of the people who 'd be a good father to have tests was\n",
      "nice to meet you back , just for a few weeks or at the end of the people who 'd be a good father to have tests was now\n",
      "nice to meet you back , just for a few weeks or at the end of the people who 'd be a good father to have tests was now because\n",
      "nice to meet you back , just for a few weeks or at the end of the people who 'd be a good father to have tests was now because we\n",
      "nice to meet you back , just for a few weeks or at the end of the people who 'd be a good father to have tests was now because we were\n",
      "nice to meet you back , just for a few weeks or at the end of the people who 'd be a good father to have tests was now because we were getting\n",
      "nice to meet you back , just for a few weeks or at the end of the people who 'd be a good father to have tests was now because we were getting to\n",
      "nice to meet you back , just for a few weeks or at the end of the people who 'd be a good father to have tests was now because we were getting to know\n",
      "nice to meet you back , just for a few weeks or at the end of the people who 'd be a good father to have tests was now because we were getting to know each\n",
      "nice to meet you back , just for a few weeks or at the end of the people who 'd be a good father to have tests was now because we were getting to know each and\n",
      "nice to meet you back , just for a few weeks or at the end of the people who 'd be a good father to have tests was now because we were getting to know each and your\n",
      "nice to meet you back , just for a few weeks or at the end of the people who 'd be a good father to have tests was now because we were getting to know each and your grandfather\n",
      "nice to meet you back , just for a few weeks or at the end of the people who 'd be a good father to have tests was now because we were getting to know each and your grandfather .\n",
      "nice to meet you back , just for a few weeks or at the end of the people who 'd be a good father to have tests was now because we were getting to know each and your grandfather . ``\n",
      "nice to meet you back , just for a few weeks or at the end of the people who 'd be a good father to have tests was now because we were getting to know each and your grandfather . `` ``\n",
      "nice to meet you back , just for a few weeks or at the end of the people who 'd be a good father to have tests was now because we were getting to know each and your grandfather . `` `` i\n",
      "nice to meet you back , just for a few weeks or at the end of the people who 'd be a good father to have tests was now because we were getting to know each and your grandfather . `` `` i kinda\n",
      "nice to meet you back , just for a few weeks or at the end of the people who 'd be a good father to have tests was now because we were getting to know each and your grandfather . `` `` i kinda was\n",
      "nice to meet you back , just for a few weeks or at the end of the people who 'd be a good father to have tests was now because we were getting to know each and your grandfather . `` `` i kinda was just\n",
      "nice to meet you back , just for a few weeks or at the end of the people who 'd be a good father to have tests was now because we were getting to know each and your grandfather . `` `` i kinda was just headed\n",
      "nice to meet you back , just for a few weeks or at the end of the people who 'd be a good father to have tests was now because we were getting to know each and your grandfather . `` `` i kinda was just headed forward\n",
      "nice to meet you back , just for a few weeks or at the end of the people who 'd be a good father to have tests was now because we were getting to know each and your grandfather . `` `` i kinda was just headed forward to\n",
      "nice to meet you back , just for a few weeks or at the end of the people who 'd be a good father to have tests was now because we were getting to know each and your grandfather . `` `` i kinda was just headed forward to bed\n",
      "nice to meet you back , just for a few weeks or at the end of the people who 'd be a good father to have tests was now because we were getting to know each and your grandfather . `` `` i kinda was just headed forward to bed .\n",
      "nice to meet you back , just for a few weeks or at the end of the people who 'd be a good father to have tests was now because we were getting to know each and your grandfather . `` `` i kinda was just headed forward to bed . ``\n",
      "nice to meet you back , just for a few weeks or at the end of the people who 'd be a good father to have tests was now because we were getting to know each and your grandfather . `` `` i kinda was just headed forward to bed . `` ``\n",
      "nice to meet you back , just for a few weeks or at the end of the people who 'd be a good father to have tests was now because we were getting to know each and your grandfather . `` `` i kinda was just headed forward to bed . `` `` just\n",
      "nice to meet you back , just for a few weeks or at the end of the people who 'd be a good father to have tests was now because we were getting to know each and your grandfather . `` `` i kinda was just headed forward to bed . `` `` just like\n",
      "nice to meet you back , just for a few weeks or at the end of the people who 'd be a good father to have tests was now because we were getting to know each and your grandfather . `` `` i kinda was just headed forward to bed . `` `` just like this\n",
      "nice to meet you back , just for a few weeks or at the end of the people who 'd be a good father to have tests was now because we were getting to know each and your grandfather . `` `` i kinda was just headed forward to bed . `` `` just like this .\n",
      "nice to meet you back , just for a few weeks or at the end of the people who 'd be a good father to have tests was now because we were getting to know each and your grandfather . `` `` i kinda was just headed forward to bed . `` `` just like this . ``\n",
      "nice to meet you back , just for a few weeks or at the end of the people who 'd be a good father to have tests was now because we were getting to know each and your grandfather . `` `` i kinda was just headed forward to bed . `` `` just like this . `` megan\n",
      "nice to meet you back , just for a few weeks or at the end of the people who 'd be a good father to have tests was now because we were getting to know each and your grandfather . `` `` i kinda was just headed forward to bed . `` `` just like this . `` megan said\n",
      "nice to meet you back , just for a few weeks or at the end of the people who 'd be a good father to have tests was now because we were getting to know each and your grandfather . `` `` i kinda was just headed forward to bed . `` `` just like this . `` megan said ,\n",
      "nice to meet you back , just for a few weeks or at the end of the people who 'd be a good father to have tests was now because we were getting to know each and your grandfather . `` `` i kinda was just headed forward to bed . `` `` just like this . `` megan said , with\n",
      "nice to meet you back , just for a few weeks or at the end of the people who 'd be a good father to have tests was now because we were getting to know each and your grandfather . `` `` i kinda was just headed forward to bed . `` `` just like this . `` megan said , with noah\n",
      "nice to meet you back , just for a few weeks or at the end of the people who 'd be a good father to have tests was now because we were getting to know each and your grandfather . `` `` i kinda was just headed forward to bed . `` `` just like this . `` megan said , with noah crying\n",
      "nice to meet you back , just for a few weeks or at the end of the people who 'd be a good father to have tests was now because we were getting to know each and your grandfather . `` `` i kinda was just headed forward to bed . `` `` just like this . `` megan said , with noah crying .\n",
      "nice to meet you back , just for a few weeks or at the end of the people who 'd be a good father to have tests was now because we were getting to know each and your grandfather . `` `` i kinda was just headed forward to bed . `` `` just like this . `` megan said , with noah crying . ``\n",
      "nice to meet you back , just for a few weeks or at the end of the people who 'd be a good father to have tests was now because we were getting to know each and your grandfather . `` `` i kinda was just headed forward to bed . `` `` just like this . `` megan said , with noah crying . `` which\n",
      "nice to meet you back , just for a few weeks or at the end of the people who 'd be a good father to have tests was now because we were getting to know each and your grandfather . `` `` i kinda was just headed forward to bed . `` `` just like this . `` megan said , with noah crying . `` which this\n",
      "nice to meet you back , just for a few weeks or at the end of the people who 'd be a good father to have tests was now because we were getting to know each and your grandfather . `` `` i kinda was just headed forward to bed . `` `` just like this . `` megan said , with noah crying . `` which this was\n",
      "nice to meet you back , just for a few weeks or at the end of the people who 'd be a good father to have tests was now because we were getting to know each and your grandfather . `` `` i kinda was just headed forward to bed . `` `` just like this . `` megan said , with noah crying . `` which this was only\n",
      "nice to meet you back , just for a few weeks or at the end of the people who 'd be a good father to have tests was now because we were getting to know each and your grandfather . `` `` i kinda was just headed forward to bed . `` `` just like this . `` megan said , with noah crying . `` which this was only one\n",
      "nice to meet you back , just for a few weeks or at the end of the people who 'd be a good father to have tests was now because we were getting to know each and your grandfather . `` `` i kinda was just headed forward to bed . `` `` just like this . `` megan said , with noah crying . `` which this was only one hell\n",
      "nice to meet you back , just for a few weeks or at the end of the people who 'd be a good father to have tests was now because we were getting to know each and your grandfather . `` `` i kinda was just headed forward to bed . `` `` just like this . `` megan said , with noah crying . `` which this was only one hell only\n",
      "nice to meet you back , just for a few weeks or at the end of the people who 'd be a good father to have tests was now because we were getting to know each and your grandfather . `` `` i kinda was just headed forward to bed . `` `` just like this . `` megan said , with noah crying . `` which this was only one hell only to\n",
      "nice to meet you back , just for a few weeks or at the end of the people who 'd be a good father to have tests was now because we were getting to know each and your grandfather . `` `` i kinda was just headed forward to bed . `` `` just like this . `` megan said , with noah crying . `` which this was only one hell only to be\n",
      "nice to meet you back , just for a few weeks or at the end of the people who 'd be a good father to have tests was now because we were getting to know each and your grandfather . `` `` i kinda was just headed forward to bed . `` `` just like this . `` megan said , with noah crying . `` which this was only one hell only to be your\n",
      "nice to meet you back , just for a few weeks or at the end of the people who 'd be a good father to have tests was now because we were getting to know each and your grandfather . `` `` i kinda was just headed forward to bed . `` `` just like this . `` megan said , with noah crying . `` which this was only one hell only to be your house\n",
      "nice to meet you back , just for a few weeks or at the end of the people who 'd be a good father to have tests was now because we were getting to know each and your grandfather . `` `` i kinda was just headed forward to bed . `` `` just like this . `` megan said , with noah crying . `` which this was only one hell only to be your house ,\n",
      "nice to meet you back , just for a few weeks or at the end of the people who 'd be a good father to have tests was now because we were getting to know each and your grandfather . `` `` i kinda was just headed forward to bed . `` `` just like this . `` megan said , with noah crying . `` which this was only one hell only to be your house , my\n",
      "nice to meet you back , just for a few weeks or at the end of the people who 'd be a good father to have tests was now because we were getting to know each and your grandfather . `` `` i kinda was just headed forward to bed . `` `` just like this . `` megan said , with noah crying . `` which this was only one hell only to be your house , my love\n",
      "nice to meet you back , just for a few weeks or at the end of the people who 'd be a good father to have tests was now because we were getting to know each and your grandfather . `` `` i kinda was just headed forward to bed . `` `` just like this . `` megan said , with noah crying . `` which this was only one hell only to be your house , my love .\n",
      "nice to meet you back , just for a few weeks or at the end of the people who 'd be a good father to have tests was now because we were getting to know each and your grandfather . `` `` i kinda was just headed forward to bed . `` `` just like this . `` megan said , with noah crying . `` which this was only one hell only to be your house , my love . ``\n",
      "nice to meet you back , just for a few weeks or at the end of the people who 'd be a good father to have tests was now because we were getting to know each and your grandfather . `` `` i kinda was just headed forward to bed . `` `` just like this . `` megan said , with noah crying . `` which this was only one hell only to be your house , my love . `` me\n",
      "nice to meet you back , just for a few weeks or at the end of the people who 'd be a good father to have tests was now because we were getting to know each and your grandfather . `` `` i kinda was just headed forward to bed . `` `` just like this . `` megan said , with noah crying . `` which this was only one hell only to be your house , my love . `` me or\n",
      "nice to meet you back , just for a few weeks or at the end of the people who 'd be a good father to have tests was now because we were getting to know each and your grandfather . `` `` i kinda was just headed forward to bed . `` `` just like this . `` megan said , with noah crying . `` which this was only one hell only to be your house , my love . `` me or no\n",
      "nice to meet you back , just for a few weeks or at the end of the people who 'd be a good father to have tests was now because we were getting to know each and your grandfather . `` `` i kinda was just headed forward to bed . `` `` just like this . `` megan said , with noah crying . `` which this was only one hell only to be your house , my love . `` me or no .\n",
      "nice to meet you back , just for a few weeks or at the end of the people who 'd be a good father to have tests was now because we were getting to know each and your grandfather . `` `` i kinda was just headed forward to bed . `` `` just like this . `` megan said , with noah crying . `` which this was only one hell only to be your house , my love . `` me or no . ``\n",
      "nice to meet you back , just for a few weeks or at the end of the people who 'd be a good father to have tests was now because we were getting to know each and your grandfather . `` `` i kinda was just headed forward to bed . `` `` just like this . `` megan said , with noah crying . `` which this was only one hell only to be your house , my love . `` me or no . `` he\n",
      "nice to meet you back , just for a few weeks or at the end of the people who 'd be a good father to have tests was now because we were getting to know each and your grandfather . `` `` i kinda was just headed forward to bed . `` `` just like this . `` megan said , with noah crying . `` which this was only one hell only to be your house , my love . `` me or no . `` he fed\n",
      "nice to meet you back , just for a few weeks or at the end of the people who 'd be a good father to have tests was now because we were getting to know each and your grandfather . `` `` i kinda was just headed forward to bed . `` `` just like this . `` megan said , with noah crying . `` which this was only one hell only to be your house , my love . `` me or no . `` he fed her\n",
      "nice to meet you back , just for a few weeks or at the end of the people who 'd be a good father to have tests was now because we were getting to know each and your grandfather . `` `` i kinda was just headed forward to bed . `` `` just like this . `` megan said , with noah crying . `` which this was only one hell only to be your house , my love . `` me or no . `` he fed her eight\n",
      "nice to meet you back , just for a few weeks or at the end of the people who 'd be a good father to have tests was now because we were getting to know each and your grandfather . `` `` i kinda was just headed forward to bed . `` `` just like this . `` megan said , with noah crying . `` which this was only one hell only to be your house , my love . `` me or no . `` he fed her eight 's\n",
      "nice to meet you back , just for a few weeks or at the end of the people who 'd be a good father to have tests was now because we were getting to know each and your grandfather . `` `` i kinda was just headed forward to bed . `` `` just like this . `` megan said , with noah crying . `` which this was only one hell only to be your house , my love . `` me or no . `` he fed her eight 's back\n",
      "nice to meet you back , just for a few weeks or at the end of the people who 'd be a good father to have tests was now because we were getting to know each and your grandfather . `` `` i kinda was just headed forward to bed . `` `` just like this . `` megan said , with noah crying . `` which this was only one hell only to be your house , my love . `` me or no . `` he fed her eight 's back .\n",
      "nice to meet you back , just for a few weeks or at the end of the people who 'd be a good father to have tests was now because we were getting to know each and your grandfather . `` `` i kinda was just headed forward to bed . `` `` just like this . `` megan said , with noah crying . `` which this was only one hell only to be your house , my love . `` me or no . `` he fed her eight 's back . ``\n",
      "nice to meet you back , just for a few weeks or at the end of the people who 'd be a good father to have tests was now because we were getting to know each and your grandfather . `` `` i kinda was just headed forward to bed . `` `` just like this . `` megan said , with noah crying . `` which this was only one hell only to be your house , my love . `` me or no . `` he fed her eight 's back . `` hers\n",
      "nice to meet you back , just for a few weeks or at the end of the people who 'd be a good father to have tests was now because we were getting to know each and your grandfather . `` `` i kinda was just headed forward to bed . `` `` just like this . `` megan said , with noah crying . `` which this was only one hell only to be your house , my love . `` me or no . `` he fed her eight 's back . `` hers .\n",
      "nice to meet you back , just for a few weeks or at the end of the people who 'd be a good father to have tests was now because we were getting to know each and your grandfather . `` `` i kinda was just headed forward to bed . `` `` just like this . `` megan said , with noah crying . `` which this was only one hell only to be your house , my love . `` me or no . `` he fed her eight 's back . `` hers . ``\n",
      "nice to meet you back , just for a few weeks or at the end of the people who 'd be a good father to have tests was now because we were getting to know each and your grandfather . `` `` i kinda was just headed forward to bed . `` `` just like this . `` megan said , with noah crying . `` which this was only one hell only to be your house , my love . `` me or no . `` he fed her eight 's back . `` hers . `` i\n",
      "nice to meet you back , just for a few weeks or at the end of the people who 'd be a good father to have tests was now because we were getting to know each and your grandfather . `` `` i kinda was just headed forward to bed . `` `` just like this . `` megan said , with noah crying . `` which this was only one hell only to be your house , my love . `` me or no . `` he fed her eight 's back . `` hers . `` i wondered\n",
      "nice to meet you back , just for a few weeks or at the end of the people who 'd be a good father to have tests was now because we were getting to know each and your grandfather . `` `` i kinda was just headed forward to bed . `` `` just like this . `` megan said , with noah crying . `` which this was only one hell only to be your house , my love . `` me or no . `` he fed her eight 's back . `` hers . `` i wondered how\n",
      "nice to meet you back , just for a few weeks or at the end of the people who 'd be a good father to have tests was now because we were getting to know each and your grandfather . `` `` i kinda was just headed forward to bed . `` `` just like this . `` megan said , with noah crying . `` which this was only one hell only to be your house , my love . `` me or no . `` he fed her eight 's back . `` hers . `` i wondered how f\n",
      "nice to meet you back , just for a few weeks or at the end of the people who 'd be a good father to have tests was now because we were getting to know each and your grandfather . `` `` i kinda was just headed forward to bed . `` `` just like this . `` megan said , with noah crying . `` which this was only one hell only to be your house , my love . `` me or no . `` he fed her eight 's back . `` hers . `` i wondered how f *\n",
      "nice to meet you back , just for a few weeks or at the end of the people who 'd be a good father to have tests was now because we were getting to know each and your grandfather . `` `` i kinda was just headed forward to bed . `` `` just like this . `` megan said , with noah crying . `` which this was only one hell only to be your house , my love . `` me or no . `` he fed her eight 's back . `` hers . `` i wondered how f * *\n"
     ]
    }
   ],
   "source": [
    "# Generate a sequence of words by repeatedly predicting the next word\n",
    "\n",
    "num_tokens = 100\n",
    "input_text = \"nice to meet you\"\n",
    "\n",
    "for i in range(num_tokens):\n",
    "\n",
    "    output_text = prediction(model, vocab, input_text)\n",
    "    print(output_text)\n",
    "    input_text = output_text    # Use the new text as the next input\n",
    "    time.sleep(0.5)"
   ]
  },
  {
   "cell_type": "code",
   "execution_count": null,
   "id": "c2e5cdb8",
   "metadata": {},
   "outputs": [],
   "source": []
  }
 ],
 "metadata": {
  "kernelspec": {
   "display_name": "Python 3",
   "language": "python",
   "name": "python3"
  },
  "language_info": {
   "codemirror_mode": {
    "name": "ipython",
    "version": 3
   },
   "file_extension": ".py",
   "mimetype": "text/x-python",
   "name": "python",
   "nbconvert_exporter": "python",
   "pygments_lexer": "ipython3",
   "version": "3.12.4"
  }
 },
 "nbformat": 4,
 "nbformat_minor": 5
}
